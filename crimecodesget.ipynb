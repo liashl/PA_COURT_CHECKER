{
 "cells": [
  {
   "cell_type": "code",
   "execution_count": 12,
   "metadata": {},
   "outputs": [],
   "source": [
    "import requests\n",
    "from bs4 import BeautifulSoup\n",
    "import csv\n",
    "\n",
    "categories_names = ['18 Pa.C.S. §','Description','Statutory Class','§  303.3 Offense Gravity Score','§ 303.7 Prior Record Score Points']\n",
    "categories = ['code_section','description','statutory_class','gravity_score','prior_score_points']\n"
   ]
  },
  {
   "cell_type": "code",
   "execution_count": 2,
   "metadata": {},
   "outputs": [],
   "source": [
    "url = 'https://www.pacodeandbulletin.gov/Display/pacode?file=/secure/pacode/data/204/chapter303/s303.15.html&d=reduce'"
   ]
  },
  {
   "cell_type": "code",
   "execution_count": 3,
   "metadata": {},
   "outputs": [
    {
     "data": {
      "text/plain": [
       "200"
      ]
     },
     "execution_count": 3,
     "metadata": {},
     "output_type": "execute_result"
    }
   ],
   "source": [
    "r = requests.get(url)\n",
    "r.status_code"
   ]
  },
  {
   "cell_type": "code",
   "execution_count": 4,
   "metadata": {},
   "outputs": [],
   "source": [
    "soup = BeautifulSoup(r.text,'html.parser')"
   ]
  },
  {
   "cell_type": "code",
   "execution_count": 5,
   "metadata": {},
   "outputs": [],
   "source": [
    "table = soup.find('table')"
   ]
  },
  {
   "cell_type": "code",
   "execution_count": 11,
   "metadata": {},
   "outputs": [
    {
     "name": "stdout",
     "output_type": "stream",
     "text": [
      "901 Criminal attempt (Inchoate) 18 Pa.C.S. §  905 See§  303.3(c) See§  303.8(b)\n",
      "902 Criminal solicitation (Inchoate) 18 Pa.C.S. §  905 See§  303.3(c) See§  303.8(b)\n",
      "903 Criminal conspiracy (Inchoate) 18 Pa.C.S. §  905 See§  303.3(c) See§  303.8(b)\n",
      "907(a) Possessing instruments of crime (criminal instruments) M-1 3 m\n"
     ]
    }
   ],
   "source": [
    "rows = table.find_all('tr')\n"
   ]
  },
  {
   "cell_type": "code",
   "execution_count": 19,
   "metadata": {},
   "outputs": [],
   "source": [
    "with open('code_table.csv','w', newline='') as outfile:\n",
    "    writer = csv.writer(outfile)\n",
    "    writer.writerow(categories)"
   ]
  },
  {
   "cell_type": "code",
   "execution_count": 20,
   "metadata": {},
   "outputs": [],
   "source": [
    "with open('code_table.csv','a', newline='') as outfile:\n",
    "    writer = csv.writer(outfile)\n",
    "\n",
    "\n",
    "    for row in rows:\n",
    "        items= row.find_all('td')\n",
    "        code_section = items[0].text.strip()\n",
    "        description = items[1].text.strip()\n",
    "        statutory_class = items[2].text.strip()\n",
    "        gravity_score = items[3].text.strip()\n",
    "        prior_score_points=items[4].text.strip()\n",
    "\n",
    "        data_out = [\n",
    "            code_section,\n",
    "            description,\n",
    "            statutory_class,\n",
    "            gravity_score,\n",
    "            prior_score_points\n",
    "        ]\n",
    "\n",
    "        writer.writerow(data_out)\n",
    "\n"
   ]
  },
  {
   "cell_type": "code",
   "execution_count": null,
   "metadata": {},
   "outputs": [],
   "source": []
  }
 ],
 "metadata": {
  "interpreter": {
   "hash": "f9d5e69b91efa7ab30fcbf3fe4d1fbfc5a872269d2846126f518f84373eab4f3"
  },
  "kernelspec": {
   "display_name": "Python 3.9.1 ('cenv': venv)",
   "language": "python",
   "name": "python3"
  },
  "language_info": {
   "codemirror_mode": {
    "name": "ipython",
    "version": 3
   },
   "file_extension": ".py",
   "mimetype": "text/x-python",
   "name": "python",
   "nbconvert_exporter": "python",
   "pygments_lexer": "ipython3",
   "version": "3.9.1"
  },
  "orig_nbformat": 4
 },
 "nbformat": 4,
 "nbformat_minor": 2
}
